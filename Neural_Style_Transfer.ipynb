{
 "cells": [
  {
   "cell_type": "code",
   "execution_count": 2,
   "metadata": {},
   "outputs": [],
   "source": [
    "# README\n",
    "\n",
    "# Unlike other optimization problems, we don't optimize the weights. Here, we try to find the pixels of the \n",
    "# final(content+style) image by reducing the error of the cost function.\n",
    "\n",
    "# There are two cost functions:\n",
    "# 1. J_content\n",
    "# 2. J_style\n",
    "\n",
    "# Total cost function: \n",
    "# J_total = alpha*J_content + beta*J_style\n",
    "\n",
    "# J_content:\n",
    "# "
   ]
  },
  {
   "cell_type": "code",
   "execution_count": null,
   "metadata": {},
   "outputs": [],
   "source": [
    "import numpy as np\n",
    "import tensorflow as tf"
   ]
  }
 ],
 "metadata": {
  "kernelspec": {
   "display_name": "Python 2",
   "language": "python",
   "name": "python2"
  },
  "language_info": {
   "codemirror_mode": {
    "name": "ipython",
    "version": 2
   },
   "file_extension": ".py",
   "mimetype": "text/x-python",
   "name": "python",
   "nbconvert_exporter": "python",
   "pygments_lexer": "ipython2",
   "version": "2.7.12"
  }
 },
 "nbformat": 4,
 "nbformat_minor": 2
}
