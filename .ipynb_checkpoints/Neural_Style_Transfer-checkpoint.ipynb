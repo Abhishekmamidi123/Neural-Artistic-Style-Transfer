{
 "cells": [
  {
   "cell_type": "code",
   "execution_count": 2,
   "metadata": {},
   "outputs": [],
   "source": [
    "# README\n",
    "\n",
    "# Tensorflow implementation of the paper: \"A Neural Algorithm of Artistic Style\"\n",
    "# You can know more about the paper here: \"https://arxiv.org/abs/1508.06576\n",
    "\n",
    "# Inputs:\n",
    "# 1. Content Image, \n",
    "# 2. Style Image\n",
    "\n",
    "# Output:\n",
    "# Generated Image(G)\n",
    "\n",
    "# Unlike other optimization problems, we don't optimize the cost function to get weights. Here, we try to find the pixels of the \n",
    "# final(content+style) generated image(G) by reducing the error of the cost function.\n",
    "\n",
    "# There are two cost functions:\n",
    "# 1. J_content\n",
    "# 2. J_style\n",
    "\n",
    "# Total cost function: \n",
    "# J_total = alpha*J_content + beta*J_style\n",
    "\n",
    "# J_content:\n",
    "# \n",
    "\n",
    "# J_style:\n",
    "# \n",
    "\n",
    "# VGG 19 model is taken from the paper: \"Very Deep Convolutional Networks for Large-Scale Image Recognition\"\n",
    "# VGG 19 has 43 layers\n",
    "# 0 is conv1_1 (3, 3, 3, 64)\n",
    "# 1 is relu\n",
    "# 2 is conv1_2 (3, 3, 64, 64)\n",
    "# 3 is relu    \n",
    "# 4 is maxpool\n",
    "# 5 is conv2_1 (3, 3, 64, 128)\n",
    "# 6 is relu\n",
    "# 7 is conv2_2 (3, 3, 128, 128)\n",
    "# 8 is relu\n",
    "# 9 is maxpool\n",
    "# 10 is conv3_1 (3, 3, 128, 256)\n",
    "# 11 is relu\n",
    "# 12 is conv3_2 (3, 3, 256, 256)\n",
    "# 13 is relu\n",
    "# 14 is conv3_3 (3, 3, 256, 256)\n",
    "# 15 is relu\n",
    "# 16 is conv3_4 (3, 3, 256, 256)\n",
    "# 17 is relu\n",
    "# 18 is maxpool\n",
    "# 19 is conv4_1 (3, 3, 256, 512)\n",
    "# 20 is relu\n",
    "# 21 is conv4_2 (3, 3, 512, 512)\n",
    "# 22 is relu\n",
    "# 23 is conv4_3 (3, 3, 512, 512)\n",
    "# 24 is relu\n",
    "# 25 is conv4_4 (3, 3, 512, 512)\n",
    "# 26 is relu\n",
    "# 27 is maxpool\n",
    "# 28 is conv5_1 (3, 3, 512, 512)\n",
    "# 29 is relu\n",
    "# 30 is conv5_2 (3, 3, 512, 512)\n",
    "# 31 is relu\n",
    "# 32 is conv5_3 (3, 3, 512, 512)\n",
    "# 33 is relu\n",
    "# 34 is conv5_4 (3, 3, 512, 512)\n",
    "# 35 is relu\n",
    "# 36 is maxpool\n",
    "# 37 is fullyconnected (7, 7, 512, 4096)\n",
    "# 38 is relu\n",
    "# 39 is fullyconnected (1, 1, 4096, 4096)\n",
    "# 40 is relu\n",
    "# 41 is fullyconnected (1, 1, 4096, 1000)\n",
    "# 42 is softmax"
   ]
  },
  {
   "cell_type": "code",
   "execution_count": 9,
   "metadata": {},
   "outputs": [],
   "source": [
    "# Import modules\n",
    "import numpy as np\n",
    "from scipy import io as sio\n",
    "import tensorflow as tf\n",
    "import matplotlib.pyplot as plt"
   ]
  },
  {
   "cell_type": "code",
   "execution_count": 23,
   "metadata": {},
   "outputs": [
    {
     "name": "stdout",
     "output_type": "stream",
     "text": [
      "(1, 43)\n"
     ]
    }
   ],
   "source": [
    "def load_vgg_model(path):\n",
    "    vgg = scipy.io.loadmat(path)\n",
    "    vgg_layers = vgg['layers']\n",
    "    return vgg_layers\n",
    "\n",
    "path = '../pretrained_models/imagenet-vgg-verydeep-19.mat'\n",
    "vgg_model = sio.loadmat(path)\n",
    "# print vgg_model\n",
    "\n",
    "model = load_vgg_model('../pretrained_models/imagenet-vgg-verydeep-19.mat')\n",
    "# print(model)\n",
    "print model.shape # (1, 43)\n"
   ]
  },
  {
   "cell_type": "code",
   "execution_count": null,
   "metadata": {},
   "outputs": [],
   "source": []
  }
 ],
 "metadata": {
  "kernelspec": {
   "display_name": "Python 2",
   "language": "python",
   "name": "python2"
  },
  "language_info": {
   "codemirror_mode": {
    "name": "ipython",
    "version": 2
   },
   "file_extension": ".py",
   "mimetype": "text/x-python",
   "name": "python",
   "nbconvert_exporter": "python",
   "pygments_lexer": "ipython2",
   "version": "2.7.12"
  }
 },
 "nbformat": 4,
 "nbformat_minor": 2
}
